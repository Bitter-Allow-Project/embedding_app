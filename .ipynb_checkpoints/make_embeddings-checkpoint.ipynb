{
 "cells": [
  {
   "cell_type": "code",
   "execution_count": 1,
   "id": "important-america",
   "metadata": {},
   "outputs": [],
   "source": [
    "import glob\n",
    "import fasttext\n",
    "import string"
   ]
  },
  {
   "cell_type": "code",
   "execution_count": 2,
   "id": "manual-rescue",
   "metadata": {},
   "outputs": [],
   "source": [
    "files = glob.glob(\"ocr/*.txt\")"
   ]
  },
  {
   "cell_type": "code",
   "execution_count": 3,
   "id": "accompanied-privacy",
   "metadata": {},
   "outputs": [
    {
     "name": "stdout",
     "output_type": "stream",
     "text": [
      "2517\n"
     ]
    }
   ],
   "source": [
    "print (len(files))"
   ]
  },
  {
   "cell_type": "code",
   "execution_count": 42,
   "id": "jewish-joyce",
   "metadata": {},
   "outputs": [
    {
     "name": "stdout",
     "output_type": "stream",
     "text": [
      "\t\n",
      "\n",
      "\n",
      "\t\n",
      "\n",
      "TRUTH AND RECONCILIATION COMMISSION\n",
      "\n",
      "HUMAN RIGHTS VIOLATIONS\n",
      "\n",
      "SUBMISSIONS - QUESTIONS AND ANSWERS\n",
      "\n",
      "DATE:\t23RD MAY 1997\t\n",
      "\n",
      "NAME:\tANNA M MOTLOUNG\n",
      "\n",
      "HELD AT:\tBALFOUR\n",
      "\n",
      "CASE:\tJB3348\t\t\t\t\n",
      "\n",
      "DAY 1\n",
      "\n",
      "____________________________________________________________________\n",
      "\n",
      "DR ALLY: Could I please call Anna Motloung to come forward. Anna ? Anna,\n",
      "excuse my earlier pronunciation. Is it Motloung, is that how you\n",
      "pronounce your surname ?\n",
      "\n",
      "MRS MOTLOUNG: Yes, I am Motloung.\n",
      "\n",
      "DR ALLY: Anna, sorry for having inconvenienced you by changing the\n",
      "programme around but we just felt that, given that those three witnesses\n",
      "were really speaking about a similar incident, it would be best for us to\n",
      "heard them all one after the other rather than interrupt the account\n",
      "which they were giving. So I ask you again to bear with us. It’s been a\n",
      "long day. Anna, you are coming to speak about an event which took place\n",
      "in 1993. In June, 1993, your son Mendi Gabrial Zulu. A very tragic event.\n",
      "I’m sure it’s something that still p\n"
     ]
    }
   ],
   "source": [
    "all_segments = []\n",
    "problem_files = []\n",
    "for file in files[0:1]:\n",
    "    with open (file, \"r\") as f:\n",
    "        transcript = f.read()\n",
    "        print (transcript[0:1000])\n",
    "        transcript = transcript.split(\"\\n\\n\")\n",
    "        for line in transcript:\n",
    "            if \":\" in line:\n",
    "                line = line.split(\":\")[1].strip()\n",
    "            line = line.lower().replace(\"\\n\", \" \")\n",
    "            op_string = line.translate(str.maketrans(' ', ' ', string.punctuation))\n",
    "            result = ''.join([i for i in op_string if not i.isdigit()])    \n",
    "            words = result.split()\n",
    "            while \"  \" in result:\n",
    "                result = result.replace(\"  \", \" \")\n",
    "            if len(words) > 5:\n",
    "                all_segments.append(result)"
   ]
  },
  {
   "cell_type": "code",
   "execution_count": 39,
   "id": "revised-auction",
   "metadata": {},
   "outputs": [
    {
     "name": "stdout",
     "output_type": "stream",
     "text": [
      "66\n"
     ]
    }
   ],
   "source": [
    "print (len(all_segments))"
   ]
  },
  {
   "cell_type": "code",
   "execution_count": 40,
   "id": "affected-behavior",
   "metadata": {},
   "outputs": [
    {
     "name": "stdout",
     "output_type": "stream",
     "text": [
      "0\n"
     ]
    }
   ],
   "source": [
    "print (len(problem_files))"
   ]
  },
  {
   "cell_type": "code",
   "execution_count": null,
   "id": "surgical-naples",
   "metadata": {},
   "outputs": [],
   "source": []
  },
  {
   "cell_type": "code",
   "execution_count": null,
   "id": "widespread-overview",
   "metadata": {},
   "outputs": [],
   "source": []
  },
  {
   "cell_type": "code",
   "execution_count": 37,
   "id": "careful-effectiveness",
   "metadata": {},
   "outputs": [],
   "source": [
    "with open (\"corpus.txt\", \"w\", encoding=\"utf-8\") as f:\n",
    "    for line in all_segments:\n",
    "        f.write(line+\"\\n\")"
   ]
  },
  {
   "cell_type": "code",
   "execution_count": 13,
   "id": "several-manufacturer",
   "metadata": {},
   "outputs": [],
   "source": [
    "model = fasttext.train_unsupervised('corpus.txt', epoch=8, dim=15)"
   ]
  },
  {
   "cell_type": "code",
   "execution_count": 15,
   "id": "micro-method",
   "metadata": {},
   "outputs": [
    {
     "data": {
      "text/plain": [
       "[(0.9705295562744141, 'stone'),\n",
       " (0.946478545665741, 'watching'),\n",
       " (0.9456820487976074, 'gunshots'),\n",
       " (0.9426010847091675, 'teargas'),\n",
       " (0.9423190355300903, 'firearm'),\n",
       " (0.9412909746170044, 'shots'),\n",
       " (0.9365701079368591, 'near'),\n",
       " (0.933726966381073, 'holding'),\n",
       " (0.9273834228515625, 'building'),\n",
       " (0.9264110922813416, 'dogs')]"
      ]
     },
     "execution_count": 15,
     "metadata": {},
     "output_type": "execute_result"
    }
   ],
   "source": [
    "model.get_nearest_neighbors('fire', k=10)"
   ]
  },
  {
   "cell_type": "code",
   "execution_count": 32,
   "id": "fatty-updating",
   "metadata": {},
   "outputs": [],
   "source": [
    "model.save_model(\"ushmm_yale_15.bin\")"
   ]
  },
  {
   "cell_type": "code",
   "execution_count": null,
   "id": "corporate-prize",
   "metadata": {},
   "outputs": [],
   "source": []
  }
 ],
 "metadata": {
  "kernelspec": {
   "display_name": "Python 3",
   "language": "python",
   "name": "python3"
  },
  "language_info": {
   "codemirror_mode": {
    "name": "ipython",
    "version": 3
   },
   "file_extension": ".py",
   "mimetype": "text/x-python",
   "name": "python",
   "nbconvert_exporter": "python",
   "pygments_lexer": "ipython3",
   "version": "3.9.2"
  }
 },
 "nbformat": 4,
 "nbformat_minor": 5
}
